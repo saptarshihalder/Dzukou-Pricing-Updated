{
 "cells": [
  {
   "cell_type": "markdown",
   "id": "b7d81122",
   "metadata": {},
   "source": [
    "# Dzukou Pricing Toolkit – Colab Version\n",
    "This notebook replicates the workflow of the Streamlit app. Run each section to add products, scrape prices, optimise pricing and generate a dashboard."
   ]
  },
  {
   "cell_type": "markdown",
   "id": "60d46fe1",
   "metadata": {},
   "source": [
    "## Installation\n",
    "Install the required packages."
   ]
  },
  {
   "cell_type": "code",
   "execution_count": null,
   "id": "0100c3aa",
   "metadata": {},
   "outputs": [],
   "source": [
    "!pip install pandas plotly requests beautifulsoup4 selenium scipy scikit-optimize"
   ]
  },
  {
   "cell_type": "markdown",
   "id": "2869de1a",
   "metadata": {},
   "source": [
    "## Repository Setup\n",
    "Change directory to the cloned repository (update the path if needed)."
   ]
  },
  {
   "cell_type": "code",
   "execution_count": null,
   "id": "eda60cfa",
   "metadata": {},
   "outputs": [],
   "source": [
    "import os\n",
    "if os.path.exists('/content/pricing'):\n",
    "    os.chdir('/content/pricing')\n",
    "!ls"
   ]
  },
  {
   "cell_type": "markdown",
   "id": "94221483",
   "metadata": {},
   "source": [
    "## Add Products\n",
    "The helper function below appends a product to the overview CSV and mapping file used by the optimiser."
   ]
  },
  {
   "cell_type": "code",
   "execution_count": null,
   "id": "2bd3d9f9",
   "metadata": {},
   "outputs": [],
   "source": [
    "import pandas as pd\n",
    "from pathlib import Path\n",
    "\n",
    "OVERVIEW_CSV = Path('Dzukou_Pricing_Overview_With_Names - Copy.csv')\n",
    "MAPPING_CSV = Path('product_data_mapping.csv')\n",
    "DATA_DIR = Path('product_data')\n",
    "DATA_DIR.mkdir(exist_ok=True)\n",
    "\n",
    "def add_product(name, product_id, category, current_price, unit_cost, keywords=''):\n",
    "    # update overview CSV\n",
    "    if OVERVIEW_CSV.exists():\n",
    "        df = pd.read_csv(OVERVIEW_CSV, encoding='cp1252')\n",
    "    else:\n",
    "        df = pd.DataFrame(columns=['Product Name','Product ID',' Current Price ',' Unit Cost'])\n",
    "    df.loc[len(df)] = [name, product_id, current_price, unit_cost]\n",
    "    df.to_csv(OVERVIEW_CSV, index=False, encoding='cp1252')\n",
    "    # update mapping file\n",
    "    if MAPPING_CSV.exists():\n",
    "        mdf = pd.read_csv(MAPPING_CSV)\n",
    "    else:\n",
    "        mdf = pd.DataFrame(columns=['Product Name','Product ID','Data File'])\n",
    "    data_file = DATA_DIR / f\"{category.replace(' ','_').lower()}.csv\"\n",
    "    if not data_file.exists():\n",
    "        data_file.write_text('category,store,product_name,price,search_term,store_url\n",
    "')\n",
    "    mdf.loc[len(mdf)] = [name, product_id, str(data_file)]\n",
    "    mdf.to_csv(MAPPING_CSV, index=False)\n",
    "    print('Added', name, '->', data_file)\n"
   ]
  },
  {
   "cell_type": "markdown",
   "id": "82479d63",
   "metadata": {},
   "source": [
    "Example call:"
   ]
  },
  {
   "cell_type": "code",
   "execution_count": null,
   "id": "379a6b40",
   "metadata": {},
   "outputs": [],
   "source": [
    "add_product('Demo Sunglasses','SG999','Sunglasses',49.0,20.0,'demo, sunglasses')"
   ]
  },
  {
   "cell_type": "markdown",
   "id": "6253d3ca",
   "metadata": {},
   "source": [
    "## Scrape Competitor Prices\n",
    "This step queries a few online stores for each category. It may take some time."
   ]
  },
  {
   "cell_type": "code",
   "execution_count": null,
   "id": "3e72d5f3",
   "metadata": {},
   "outputs": [],
   "source": [
    "from scraper import ProductScraper\n",
    "sc = ProductScraper()\n",
    "sc.scrape_all_stores()\n",
    "sc.save_category_csvs()"
   ]
  },
  {
   "cell_type": "markdown",
   "id": "6d9b0d2e",
   "metadata": {},
   "source": [
    "## Price Optimisation"
   ]
  },
  {
   "cell_type": "code",
   "execution_count": null,
   "id": "7cdaf293",
   "metadata": {},
   "outputs": [],
   "source": [
    "import price_optimizer\n",
    "price_optimizer.main()"
   ]
  },
  {
   "cell_type": "markdown",
   "id": "5a98ba43",
   "metadata": {},
   "source": [
    "## Inspect Recommendations"
   ]
  },
  {
   "cell_type": "code",
   "execution_count": null,
   "id": "4c327dd5",
   "metadata": {},
   "outputs": [],
   "source": [
    "import pandas as pd\n",
    "rec = pd.read_csv('recommended_prices.csv')\n",
    "rec.head()"
   ]
  },
  {
   "cell_type": "markdown",
   "id": "0d08fa33",
   "metadata": {},
   "source": [
    "## Build Dashboard"
   ]
  },
  {
   "cell_type": "code",
   "execution_count": null,
   "id": "ecd6c801",
   "metadata": {},
   "outputs": [],
   "source": [
    "import dashboard\n",
    "df = dashboard.load_data()\n",
    "dashboard.build_dashboard(df)\n",
    "print('Dashboard saved to', dashboard.OUT_HTML)"
   ]
  }
 ],
 "metadata": {},
 "nbformat": 4,
 "nbformat_minor": 5
}
